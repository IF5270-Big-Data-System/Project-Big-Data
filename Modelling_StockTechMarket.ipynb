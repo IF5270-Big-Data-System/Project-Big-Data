{
  "nbformat": 4,
  "nbformat_minor": 0,
  "metadata": {
    "colab": {
      "provenance": []
    },
    "kernelspec": {
      "name": "python3",
      "display_name": "Python 3"
    },
    "language_info": {
      "name": "python"
    },
    "gpuClass": "standard"
  },
  "cells": [
    {
      "cell_type": "markdown",
      "source": [
        "# Library"
      ],
      "metadata": {
        "id": "j0UwsEdwCigY"
      }
    },
    {
      "cell_type": "code",
      "execution_count": 54,
      "metadata": {
        "id": "ecwJt2W88vY3"
      },
      "outputs": [],
      "source": [
        "import numpy as np\n",
        "import pandas as pd\n",
        "import matplotlib.pyplot as plt\n",
        "import seaborn as sb\n",
        "\n",
        "from sklearn.model_selection import train_test_split\n",
        "from sklearn.preprocessing import StandardScaler\n",
        "from sklearn.linear_model import LogisticRegression\n",
        "from sklearn.svm import SVC\n",
        "from xgboost import XGBClassifier\n",
        "from sklearn import metrics\n",
        "from sklearn.ensemble import RandomForestClassifier\n",
        "from sklearn.ensemble import AdaBoostClassifier\n",
        "\n",
        "from sklearn.model_selection import cross_val_predict\n",
        "from sklearn.metrics import confusion_matrix\n",
        "from sklearn.metrics import classification_report\n",
        "\n",
        "import warnings\n",
        "warnings.filterwarnings('ignore')"
      ]
    },
    {
      "cell_type": "markdown",
      "source": [
        "# Initiate Data"
      ],
      "metadata": {
        "id": "xFwerLP4Cn3h"
      }
    },
    {
      "cell_type": "code",
      "source": [
        "stockTech_List = [\"AAPL\",\"GOOGL\",\"TSLA\",\"NVDA\",\"META\"]"
      ],
      "metadata": {
        "id": "Rjc56AY980Xc"
      },
      "execution_count": 55,
      "outputs": []
    },
    {
      "cell_type": "code",
      "source": [
        "# buat dataframe kosong\n",
        "df_concat = pd.DataFrame()\n",
        "\n",
        "for stock in stockTech_List:\n",
        "  path = \"/content/\"+stock+\"data.csv\"\n",
        "  df = pd.read_csv(path)\n",
        "  df['open-close'] = df['Open'] - df['Close']\n",
        "  df['low-high'] = df['Low'] - df['High']\n",
        "  df['target'] = np.where(df['Close'].shift(-1) > df['Close'], 1, 0)\n",
        "\n",
        "  df['Date'] = pd.to_datetime(df['Date'], utc=True)\n",
        "  df['day'] = df['Date'].dt.day\n",
        "  df['month'] = df['Date'].dt.month\n",
        "  df['year'] = df['Date'].dt.year\n",
        "  df['is_quarter_end'] = np.where(df['month']%3==0,1,0)\n",
        "\n",
        "  # gabungkan dataframe setiap saham ke dataframe utama\n",
        "  df_concat = pd.concat([df_concat, df], ignore_index=True)"
      ],
      "metadata": {
        "id": "AOM7Ps4y9GM_"
      },
      "execution_count": 56,
      "outputs": []
    },
    {
      "cell_type": "code",
      "source": [
        "df_concat.to_csv('stockTechdata.csv')"
      ],
      "metadata": {
        "id": "DPVjBb5SOwdt"
      },
      "execution_count": 75,
      "outputs": []
    },
    {
      "cell_type": "code",
      "source": [
        "df_concat"
      ],
      "metadata": {
        "colab": {
          "base_uri": "https://localhost:8080/",
          "height": 678
        },
        "id": "pgXHl3Ds_4C_",
        "outputId": "37073ca1-d019-497a-81f3-61f2b7c130f6"
      },
      "execution_count": 57,
      "outputs": [
        {
          "output_type": "execute_result",
          "data": {
            "text/plain": [
              "                          Date        Open        High         Low  \\\n",
              "0    2019-01-02 05:00:00+00:00   37.317041   38.271110   37.158029   \n",
              "1    2019-01-03 05:00:00+00:00   34.688534   35.107747   34.211502   \n",
              "2    2019-01-04 05:00:00+00:00   34.821047   35.789570   34.645172   \n",
              "3    2019-01-07 05:00:00+00:00   35.825704   35.857026   35.151111   \n",
              "4    2019-01-08 05:00:00+00:00   36.032904   36.577399   35.782343   \n",
              "...                        ...         ...         ...         ...   \n",
              "5306 2023-03-20 04:00:00+00:00  198.479996  199.360001  193.639999   \n",
              "5307 2023-03-21 04:00:00+00:00  203.199997  203.550003  197.949997   \n",
              "5308 2023-03-22 04:00:00+00:00  202.500000  207.369995  199.669998   \n",
              "5309 2023-03-23 04:00:00+00:00  202.839996  207.880005  202.149994   \n",
              "5310 2023-03-24 04:00:00+00:00  205.179993  207.580002  203.550003   \n",
              "\n",
              "           Close     Volume  Dividends  Stock Splits  open-close  low-high  \\\n",
              "0      38.047047  148158800        0.0           0.0   -0.730006 -1.113081   \n",
              "1      34.257278  365248800        0.0           0.0    0.431256 -0.896245   \n",
              "2      35.719700  234428400        0.0           0.0   -0.898653 -1.144399   \n",
              "3      35.640190  219111200        0.0           0.0    0.185514 -0.705915   \n",
              "4      36.319607  164101200        0.0           0.0   -0.286703 -0.795057   \n",
              "...          ...        ...        ...           ...         ...       ...   \n",
              "5306  197.809998   25186300        0.0           0.0    0.669998 -5.720001   \n",
              "5307  202.160004   31827000        0.0           0.0    1.039993 -5.600006   \n",
              "5308  199.809998   28477800        0.0           0.0    2.690002 -7.699997   \n",
              "5309  204.279999   27389700        0.0           0.0   -1.440002 -5.730011   \n",
              "5310  206.009995   27716400        0.0           0.0   -0.830002 -4.029999   \n",
              "\n",
              "      target  day  month  year  is_quarter_end  \n",
              "0          0    2      1  2019               0  \n",
              "1          1    3      1  2019               0  \n",
              "2          0    4      1  2019               0  \n",
              "3          1    7      1  2019               0  \n",
              "4          1    8      1  2019               0  \n",
              "...      ...  ...    ...   ...             ...  \n",
              "5306       1   20      3  2023               1  \n",
              "5307       0   21      3  2023               1  \n",
              "5308       1   22      3  2023               1  \n",
              "5309       1   23      3  2023               1  \n",
              "5310       0   24      3  2023               1  \n",
              "\n",
              "[5311 rows x 15 columns]"
            ],
            "text/html": [
              "\n",
              "  <div id=\"df-c3df7b48-1586-448c-bacb-91db382cc02a\">\n",
              "    <div class=\"colab-df-container\">\n",
              "      <div>\n",
              "<style scoped>\n",
              "    .dataframe tbody tr th:only-of-type {\n",
              "        vertical-align: middle;\n",
              "    }\n",
              "\n",
              "    .dataframe tbody tr th {\n",
              "        vertical-align: top;\n",
              "    }\n",
              "\n",
              "    .dataframe thead th {\n",
              "        text-align: right;\n",
              "    }\n",
              "</style>\n",
              "<table border=\"1\" class=\"dataframe\">\n",
              "  <thead>\n",
              "    <tr style=\"text-align: right;\">\n",
              "      <th></th>\n",
              "      <th>Date</th>\n",
              "      <th>Open</th>\n",
              "      <th>High</th>\n",
              "      <th>Low</th>\n",
              "      <th>Close</th>\n",
              "      <th>Volume</th>\n",
              "      <th>Dividends</th>\n",
              "      <th>Stock Splits</th>\n",
              "      <th>open-close</th>\n",
              "      <th>low-high</th>\n",
              "      <th>target</th>\n",
              "      <th>day</th>\n",
              "      <th>month</th>\n",
              "      <th>year</th>\n",
              "      <th>is_quarter_end</th>\n",
              "    </tr>\n",
              "  </thead>\n",
              "  <tbody>\n",
              "    <tr>\n",
              "      <th>0</th>\n",
              "      <td>2019-01-02 05:00:00+00:00</td>\n",
              "      <td>37.317041</td>\n",
              "      <td>38.271110</td>\n",
              "      <td>37.158029</td>\n",
              "      <td>38.047047</td>\n",
              "      <td>148158800</td>\n",
              "      <td>0.0</td>\n",
              "      <td>0.0</td>\n",
              "      <td>-0.730006</td>\n",
              "      <td>-1.113081</td>\n",
              "      <td>0</td>\n",
              "      <td>2</td>\n",
              "      <td>1</td>\n",
              "      <td>2019</td>\n",
              "      <td>0</td>\n",
              "    </tr>\n",
              "    <tr>\n",
              "      <th>1</th>\n",
              "      <td>2019-01-03 05:00:00+00:00</td>\n",
              "      <td>34.688534</td>\n",
              "      <td>35.107747</td>\n",
              "      <td>34.211502</td>\n",
              "      <td>34.257278</td>\n",
              "      <td>365248800</td>\n",
              "      <td>0.0</td>\n",
              "      <td>0.0</td>\n",
              "      <td>0.431256</td>\n",
              "      <td>-0.896245</td>\n",
              "      <td>1</td>\n",
              "      <td>3</td>\n",
              "      <td>1</td>\n",
              "      <td>2019</td>\n",
              "      <td>0</td>\n",
              "    </tr>\n",
              "    <tr>\n",
              "      <th>2</th>\n",
              "      <td>2019-01-04 05:00:00+00:00</td>\n",
              "      <td>34.821047</td>\n",
              "      <td>35.789570</td>\n",
              "      <td>34.645172</td>\n",
              "      <td>35.719700</td>\n",
              "      <td>234428400</td>\n",
              "      <td>0.0</td>\n",
              "      <td>0.0</td>\n",
              "      <td>-0.898653</td>\n",
              "      <td>-1.144399</td>\n",
              "      <td>0</td>\n",
              "      <td>4</td>\n",
              "      <td>1</td>\n",
              "      <td>2019</td>\n",
              "      <td>0</td>\n",
              "    </tr>\n",
              "    <tr>\n",
              "      <th>3</th>\n",
              "      <td>2019-01-07 05:00:00+00:00</td>\n",
              "      <td>35.825704</td>\n",
              "      <td>35.857026</td>\n",
              "      <td>35.151111</td>\n",
              "      <td>35.640190</td>\n",
              "      <td>219111200</td>\n",
              "      <td>0.0</td>\n",
              "      <td>0.0</td>\n",
              "      <td>0.185514</td>\n",
              "      <td>-0.705915</td>\n",
              "      <td>1</td>\n",
              "      <td>7</td>\n",
              "      <td>1</td>\n",
              "      <td>2019</td>\n",
              "      <td>0</td>\n",
              "    </tr>\n",
              "    <tr>\n",
              "      <th>4</th>\n",
              "      <td>2019-01-08 05:00:00+00:00</td>\n",
              "      <td>36.032904</td>\n",
              "      <td>36.577399</td>\n",
              "      <td>35.782343</td>\n",
              "      <td>36.319607</td>\n",
              "      <td>164101200</td>\n",
              "      <td>0.0</td>\n",
              "      <td>0.0</td>\n",
              "      <td>-0.286703</td>\n",
              "      <td>-0.795057</td>\n",
              "      <td>1</td>\n",
              "      <td>8</td>\n",
              "      <td>1</td>\n",
              "      <td>2019</td>\n",
              "      <td>0</td>\n",
              "    </tr>\n",
              "    <tr>\n",
              "      <th>...</th>\n",
              "      <td>...</td>\n",
              "      <td>...</td>\n",
              "      <td>...</td>\n",
              "      <td>...</td>\n",
              "      <td>...</td>\n",
              "      <td>...</td>\n",
              "      <td>...</td>\n",
              "      <td>...</td>\n",
              "      <td>...</td>\n",
              "      <td>...</td>\n",
              "      <td>...</td>\n",
              "      <td>...</td>\n",
              "      <td>...</td>\n",
              "      <td>...</td>\n",
              "      <td>...</td>\n",
              "    </tr>\n",
              "    <tr>\n",
              "      <th>5306</th>\n",
              "      <td>2023-03-20 04:00:00+00:00</td>\n",
              "      <td>198.479996</td>\n",
              "      <td>199.360001</td>\n",
              "      <td>193.639999</td>\n",
              "      <td>197.809998</td>\n",
              "      <td>25186300</td>\n",
              "      <td>0.0</td>\n",
              "      <td>0.0</td>\n",
              "      <td>0.669998</td>\n",
              "      <td>-5.720001</td>\n",
              "      <td>1</td>\n",
              "      <td>20</td>\n",
              "      <td>3</td>\n",
              "      <td>2023</td>\n",
              "      <td>1</td>\n",
              "    </tr>\n",
              "    <tr>\n",
              "      <th>5307</th>\n",
              "      <td>2023-03-21 04:00:00+00:00</td>\n",
              "      <td>203.199997</td>\n",
              "      <td>203.550003</td>\n",
              "      <td>197.949997</td>\n",
              "      <td>202.160004</td>\n",
              "      <td>31827000</td>\n",
              "      <td>0.0</td>\n",
              "      <td>0.0</td>\n",
              "      <td>1.039993</td>\n",
              "      <td>-5.600006</td>\n",
              "      <td>0</td>\n",
              "      <td>21</td>\n",
              "      <td>3</td>\n",
              "      <td>2023</td>\n",
              "      <td>1</td>\n",
              "    </tr>\n",
              "    <tr>\n",
              "      <th>5308</th>\n",
              "      <td>2023-03-22 04:00:00+00:00</td>\n",
              "      <td>202.500000</td>\n",
              "      <td>207.369995</td>\n",
              "      <td>199.669998</td>\n",
              "      <td>199.809998</td>\n",
              "      <td>28477800</td>\n",
              "      <td>0.0</td>\n",
              "      <td>0.0</td>\n",
              "      <td>2.690002</td>\n",
              "      <td>-7.699997</td>\n",
              "      <td>1</td>\n",
              "      <td>22</td>\n",
              "      <td>3</td>\n",
              "      <td>2023</td>\n",
              "      <td>1</td>\n",
              "    </tr>\n",
              "    <tr>\n",
              "      <th>5309</th>\n",
              "      <td>2023-03-23 04:00:00+00:00</td>\n",
              "      <td>202.839996</td>\n",
              "      <td>207.880005</td>\n",
              "      <td>202.149994</td>\n",
              "      <td>204.279999</td>\n",
              "      <td>27389700</td>\n",
              "      <td>0.0</td>\n",
              "      <td>0.0</td>\n",
              "      <td>-1.440002</td>\n",
              "      <td>-5.730011</td>\n",
              "      <td>1</td>\n",
              "      <td>23</td>\n",
              "      <td>3</td>\n",
              "      <td>2023</td>\n",
              "      <td>1</td>\n",
              "    </tr>\n",
              "    <tr>\n",
              "      <th>5310</th>\n",
              "      <td>2023-03-24 04:00:00+00:00</td>\n",
              "      <td>205.179993</td>\n",
              "      <td>207.580002</td>\n",
              "      <td>203.550003</td>\n",
              "      <td>206.009995</td>\n",
              "      <td>27716400</td>\n",
              "      <td>0.0</td>\n",
              "      <td>0.0</td>\n",
              "      <td>-0.830002</td>\n",
              "      <td>-4.029999</td>\n",
              "      <td>0</td>\n",
              "      <td>24</td>\n",
              "      <td>3</td>\n",
              "      <td>2023</td>\n",
              "      <td>1</td>\n",
              "    </tr>\n",
              "  </tbody>\n",
              "</table>\n",
              "<p>5311 rows × 15 columns</p>\n",
              "</div>\n",
              "      <button class=\"colab-df-convert\" onclick=\"convertToInteractive('df-c3df7b48-1586-448c-bacb-91db382cc02a')\"\n",
              "              title=\"Convert this dataframe to an interactive table.\"\n",
              "              style=\"display:none;\">\n",
              "        \n",
              "  <svg xmlns=\"http://www.w3.org/2000/svg\" height=\"24px\"viewBox=\"0 0 24 24\"\n",
              "       width=\"24px\">\n",
              "    <path d=\"M0 0h24v24H0V0z\" fill=\"none\"/>\n",
              "    <path d=\"M18.56 5.44l.94 2.06.94-2.06 2.06-.94-2.06-.94-.94-2.06-.94 2.06-2.06.94zm-11 1L8.5 8.5l.94-2.06 2.06-.94-2.06-.94L8.5 2.5l-.94 2.06-2.06.94zm10 10l.94 2.06.94-2.06 2.06-.94-2.06-.94-.94-2.06-.94 2.06-2.06.94z\"/><path d=\"M17.41 7.96l-1.37-1.37c-.4-.4-.92-.59-1.43-.59-.52 0-1.04.2-1.43.59L10.3 9.45l-7.72 7.72c-.78.78-.78 2.05 0 2.83L4 21.41c.39.39.9.59 1.41.59.51 0 1.02-.2 1.41-.59l7.78-7.78 2.81-2.81c.8-.78.8-2.07 0-2.86zM5.41 20L4 18.59l7.72-7.72 1.47 1.35L5.41 20z\"/>\n",
              "  </svg>\n",
              "      </button>\n",
              "      \n",
              "  <style>\n",
              "    .colab-df-container {\n",
              "      display:flex;\n",
              "      flex-wrap:wrap;\n",
              "      gap: 12px;\n",
              "    }\n",
              "\n",
              "    .colab-df-convert {\n",
              "      background-color: #E8F0FE;\n",
              "      border: none;\n",
              "      border-radius: 50%;\n",
              "      cursor: pointer;\n",
              "      display: none;\n",
              "      fill: #1967D2;\n",
              "      height: 32px;\n",
              "      padding: 0 0 0 0;\n",
              "      width: 32px;\n",
              "    }\n",
              "\n",
              "    .colab-df-convert:hover {\n",
              "      background-color: #E2EBFA;\n",
              "      box-shadow: 0px 1px 2px rgba(60, 64, 67, 0.3), 0px 1px 3px 1px rgba(60, 64, 67, 0.15);\n",
              "      fill: #174EA6;\n",
              "    }\n",
              "\n",
              "    [theme=dark] .colab-df-convert {\n",
              "      background-color: #3B4455;\n",
              "      fill: #D2E3FC;\n",
              "    }\n",
              "\n",
              "    [theme=dark] .colab-df-convert:hover {\n",
              "      background-color: #434B5C;\n",
              "      box-shadow: 0px 1px 3px 1px rgba(0, 0, 0, 0.15);\n",
              "      filter: drop-shadow(0px 1px 2px rgba(0, 0, 0, 0.3));\n",
              "      fill: #FFFFFF;\n",
              "    }\n",
              "  </style>\n",
              "\n",
              "      <script>\n",
              "        const buttonEl =\n",
              "          document.querySelector('#df-c3df7b48-1586-448c-bacb-91db382cc02a button.colab-df-convert');\n",
              "        buttonEl.style.display =\n",
              "          google.colab.kernel.accessAllowed ? 'block' : 'none';\n",
              "\n",
              "        async function convertToInteractive(key) {\n",
              "          const element = document.querySelector('#df-c3df7b48-1586-448c-bacb-91db382cc02a');\n",
              "          const dataTable =\n",
              "            await google.colab.kernel.invokeFunction('convertToInteractive',\n",
              "                                                     [key], {});\n",
              "          if (!dataTable) return;\n",
              "\n",
              "          const docLinkHtml = 'Like what you see? Visit the ' +\n",
              "            '<a target=\"_blank\" href=https://colab.research.google.com/notebooks/data_table.ipynb>data table notebook</a>'\n",
              "            + ' to learn more about interactive tables.';\n",
              "          element.innerHTML = '';\n",
              "          dataTable['output_type'] = 'display_data';\n",
              "          await google.colab.output.renderOutput(dataTable, element);\n",
              "          const docLink = document.createElement('div');\n",
              "          docLink.innerHTML = docLinkHtml;\n",
              "          element.appendChild(docLink);\n",
              "        }\n",
              "      </script>\n",
              "    </div>\n",
              "  </div>\n",
              "  "
            ]
          },
          "metadata": {},
          "execution_count": 57
        }
      ]
    },
    {
      "cell_type": "code",
      "source": [
        "df_concat.isnull().sum()"
      ],
      "metadata": {
        "id": "yaQviwRJTh9B",
        "colab": {
          "base_uri": "https://localhost:8080/"
        },
        "outputId": "081976ff-c1bc-43cd-8bfb-614c5b1bad15"
      },
      "execution_count": 58,
      "outputs": [
        {
          "output_type": "execute_result",
          "data": {
            "text/plain": [
              "Date              0\n",
              "Open              0\n",
              "High              0\n",
              "Low               0\n",
              "Close             0\n",
              "Volume            0\n",
              "Dividends         0\n",
              "Stock Splits      0\n",
              "open-close        0\n",
              "low-high          0\n",
              "target            0\n",
              "day               0\n",
              "month             0\n",
              "year              0\n",
              "is_quarter_end    0\n",
              "dtype: int64"
            ]
          },
          "metadata": {},
          "execution_count": 58
        }
      ]
    },
    {
      "cell_type": "code",
      "source": [
        "\"\"\"df_concat['RSI'].fillna(df_concat['RSI'].mean(), inplace=True)\n",
        "df_concat['bb_bbm'].fillna(df_concat['bb_bbm'].mean(), inplace=True)\n",
        "df_concat['bb_bbh'].fillna(df_concat['bb_bbh'].mean(), inplace=True)\n",
        "df_concat['bb_bbl'].fillna(df_concat['bb_bbl'].mean(), inplace=True)\n",
        "df_concat['volatility'].fillna(df_concat['volatility'].mean(), inplace=True)\n",
        "df_concat['trend'].fillna(df_concat['trend'].mean(), inplace=True)\n",
        "df_concat['MA5'].fillna(df_concat['MA10'].mean(), inplace=True)\n",
        "df_concat['MA10'].fillna(df_concat['MA10'].mean(), inplace=True)\"\"\""
      ],
      "metadata": {
        "colab": {
          "base_uri": "https://localhost:8080/",
          "height": 88
        },
        "id": "ZASwnCRWUYaZ",
        "outputId": "64854ab3-c7ef-429a-c6e9-943d7dd1194a"
      },
      "execution_count": 59,
      "outputs": [
        {
          "output_type": "execute_result",
          "data": {
            "text/plain": [
              "\"df_concat['RSI'].fillna(df_concat['RSI'].mean(), inplace=True)\\ndf_concat['bb_bbm'].fillna(df_concat['bb_bbm'].mean(), inplace=True)\\ndf_concat['bb_bbh'].fillna(df_concat['bb_bbh'].mean(), inplace=True)\\ndf_concat['bb_bbl'].fillna(df_concat['bb_bbl'].mean(), inplace=True)\\ndf_concat['volatility'].fillna(df_concat['volatility'].mean(), inplace=True)\\ndf_concat['trend'].fillna(df_concat['trend'].mean(), inplace=True)\\ndf_concat['MA5'].fillna(df_concat['MA10'].mean(), inplace=True)\\ndf_concat['MA10'].fillna(df_concat['MA10'].mean(), inplace=True)\""
            ],
            "application/vnd.google.colaboratory.intrinsic+json": {
              "type": "string"
            }
          },
          "metadata": {},
          "execution_count": 59
        }
      ]
    },
    {
      "cell_type": "code",
      "source": [
        "#df_concat.isnull().sum()"
      ],
      "metadata": {
        "id": "bLHl8z81U6km"
      },
      "execution_count": 60,
      "outputs": []
    },
    {
      "cell_type": "code",
      "source": [
        "features = df_concat[['open-close', 'low-high', 'is_quarter_end']]\n",
        "target = df_concat['target']\n",
        "\n",
        "scaler = StandardScaler()\n",
        "features = scaler.fit_transform(features)\n",
        "\n",
        "x_train, x_test, y_train, y_test = train_test_split(features, target, test_size=0.3, random_state=43)\n",
        "print(x_train.shape, x_test.shape)"
      ],
      "metadata": {
        "colab": {
          "base_uri": "https://localhost:8080/"
        },
        "id": "xhthiqoP_6Bd",
        "outputId": "be3a9900-f9e5-4994-9b40-806a5067662d"
      },
      "execution_count": 61,
      "outputs": [
        {
          "output_type": "stream",
          "name": "stdout",
          "text": [
            "(3717, 3) (1594, 3)\n"
          ]
        }
      ]
    },
    {
      "cell_type": "markdown",
      "source": [
        "#Modeling"
      ],
      "metadata": {
        "id": "EPhRA-lXk5-u"
      }
    },
    {
      "cell_type": "markdown",
      "source": [
        "##Logistic Regression"
      ],
      "metadata": {
        "id": "CDJbjeYjk7yu"
      }
    },
    {
      "cell_type": "code",
      "source": [
        "LRModel = LogisticRegression()\n",
        "LRModel.fit(x_train, y_train)"
      ],
      "metadata": {
        "colab": {
          "base_uri": "https://localhost:8080/",
          "height": 0
        },
        "id": "0ZCjCtcSj_T4",
        "outputId": "16b5fb32-716d-40ce-994f-6feaa7fc2983"
      },
      "execution_count": 62,
      "outputs": [
        {
          "output_type": "execute_result",
          "data": {
            "text/plain": [
              "LogisticRegression()"
            ],
            "text/html": [
              "<style>#sk-container-id-8 {color: black;background-color: white;}#sk-container-id-8 pre{padding: 0;}#sk-container-id-8 div.sk-toggleable {background-color: white;}#sk-container-id-8 label.sk-toggleable__label {cursor: pointer;display: block;width: 100%;margin-bottom: 0;padding: 0.3em;box-sizing: border-box;text-align: center;}#sk-container-id-8 label.sk-toggleable__label-arrow:before {content: \"▸\";float: left;margin-right: 0.25em;color: #696969;}#sk-container-id-8 label.sk-toggleable__label-arrow:hover:before {color: black;}#sk-container-id-8 div.sk-estimator:hover label.sk-toggleable__label-arrow:before {color: black;}#sk-container-id-8 div.sk-toggleable__content {max-height: 0;max-width: 0;overflow: hidden;text-align: left;background-color: #f0f8ff;}#sk-container-id-8 div.sk-toggleable__content pre {margin: 0.2em;color: black;border-radius: 0.25em;background-color: #f0f8ff;}#sk-container-id-8 input.sk-toggleable__control:checked~div.sk-toggleable__content {max-height: 200px;max-width: 100%;overflow: auto;}#sk-container-id-8 input.sk-toggleable__control:checked~label.sk-toggleable__label-arrow:before {content: \"▾\";}#sk-container-id-8 div.sk-estimator input.sk-toggleable__control:checked~label.sk-toggleable__label {background-color: #d4ebff;}#sk-container-id-8 div.sk-label input.sk-toggleable__control:checked~label.sk-toggleable__label {background-color: #d4ebff;}#sk-container-id-8 input.sk-hidden--visually {border: 0;clip: rect(1px 1px 1px 1px);clip: rect(1px, 1px, 1px, 1px);height: 1px;margin: -1px;overflow: hidden;padding: 0;position: absolute;width: 1px;}#sk-container-id-8 div.sk-estimator {font-family: monospace;background-color: #f0f8ff;border: 1px dotted black;border-radius: 0.25em;box-sizing: border-box;margin-bottom: 0.5em;}#sk-container-id-8 div.sk-estimator:hover {background-color: #d4ebff;}#sk-container-id-8 div.sk-parallel-item::after {content: \"\";width: 100%;border-bottom: 1px solid gray;flex-grow: 1;}#sk-container-id-8 div.sk-label:hover label.sk-toggleable__label {background-color: #d4ebff;}#sk-container-id-8 div.sk-serial::before {content: \"\";position: absolute;border-left: 1px solid gray;box-sizing: border-box;top: 0;bottom: 0;left: 50%;z-index: 0;}#sk-container-id-8 div.sk-serial {display: flex;flex-direction: column;align-items: center;background-color: white;padding-right: 0.2em;padding-left: 0.2em;position: relative;}#sk-container-id-8 div.sk-item {position: relative;z-index: 1;}#sk-container-id-8 div.sk-parallel {display: flex;align-items: stretch;justify-content: center;background-color: white;position: relative;}#sk-container-id-8 div.sk-item::before, #sk-container-id-8 div.sk-parallel-item::before {content: \"\";position: absolute;border-left: 1px solid gray;box-sizing: border-box;top: 0;bottom: 0;left: 50%;z-index: -1;}#sk-container-id-8 div.sk-parallel-item {display: flex;flex-direction: column;z-index: 1;position: relative;background-color: white;}#sk-container-id-8 div.sk-parallel-item:first-child::after {align-self: flex-end;width: 50%;}#sk-container-id-8 div.sk-parallel-item:last-child::after {align-self: flex-start;width: 50%;}#sk-container-id-8 div.sk-parallel-item:only-child::after {width: 0;}#sk-container-id-8 div.sk-dashed-wrapped {border: 1px dashed gray;margin: 0 0.4em 0.5em 0.4em;box-sizing: border-box;padding-bottom: 0.4em;background-color: white;}#sk-container-id-8 div.sk-label label {font-family: monospace;font-weight: bold;display: inline-block;line-height: 1.2em;}#sk-container-id-8 div.sk-label-container {text-align: center;}#sk-container-id-8 div.sk-container {/* jupyter's `normalize.less` sets `[hidden] { display: none; }` but bootstrap.min.css set `[hidden] { display: none !important; }` so we also need the `!important` here to be able to override the default hidden behavior on the sphinx rendered scikit-learn.org. See: https://github.com/scikit-learn/scikit-learn/issues/21755 */display: inline-block !important;position: relative;}#sk-container-id-8 div.sk-text-repr-fallback {display: none;}</style><div id=\"sk-container-id-8\" class=\"sk-top-container\"><div class=\"sk-text-repr-fallback\"><pre>LogisticRegression()</pre><b>In a Jupyter environment, please rerun this cell to show the HTML representation or trust the notebook. <br />On GitHub, the HTML representation is unable to render, please try loading this page with nbviewer.org.</b></div><div class=\"sk-container\" hidden><div class=\"sk-item\"><div class=\"sk-estimator sk-toggleable\"><input class=\"sk-toggleable__control sk-hidden--visually\" id=\"sk-estimator-id-8\" type=\"checkbox\" checked><label for=\"sk-estimator-id-8\" class=\"sk-toggleable__label sk-toggleable__label-arrow\">LogisticRegression</label><div class=\"sk-toggleable__content\"><pre>LogisticRegression()</pre></div></div></div></div></div>"
            ]
          },
          "metadata": {},
          "execution_count": 62
        }
      ]
    },
    {
      "cell_type": "code",
      "source": [
        "yval_predict = cross_val_predict(estimator = LRModel, X = x_train, y = y_train, cv = 10)"
      ],
      "metadata": {
        "id": "27-kCLuilCvl"
      },
      "execution_count": 63,
      "outputs": []
    },
    {
      "cell_type": "code",
      "source": [
        "print(classification_report(y_train, yval_predict))"
      ],
      "metadata": {
        "colab": {
          "base_uri": "https://localhost:8080/"
        },
        "id": "Z9V3N7WTlsw2",
        "outputId": "28531855-6d6f-443c-baa9-fa46f737570f"
      },
      "execution_count": 64,
      "outputs": [
        {
          "output_type": "stream",
          "name": "stdout",
          "text": [
            "              precision    recall  f1-score   support\n",
            "\n",
            "           0       0.52      0.08      0.13      1753\n",
            "           1       0.53      0.94      0.68      1964\n",
            "\n",
            "    accuracy                           0.53      3717\n",
            "   macro avg       0.53      0.51      0.41      3717\n",
            "weighted avg       0.53      0.53      0.42      3717\n",
            "\n"
          ]
        }
      ]
    },
    {
      "cell_type": "code",
      "source": [
        "ytest_predict = LRModel.predict(x_test)\n",
        "print(\"Classification Report: \\n\",classification_report(y_test, ytest_predict))"
      ],
      "metadata": {
        "colab": {
          "base_uri": "https://localhost:8080/"
        },
        "id": "sqiaVK8ImIoe",
        "outputId": "99b86a8c-7f00-40e2-fc43-1b1f9b04c28f"
      },
      "execution_count": 65,
      "outputs": [
        {
          "output_type": "stream",
          "name": "stdout",
          "text": [
            "Classification Report: \n",
            "               precision    recall  f1-score   support\n",
            "\n",
            "           0       0.50      0.07      0.12       732\n",
            "           1       0.54      0.94      0.69       862\n",
            "\n",
            "    accuracy                           0.54      1594\n",
            "   macro avg       0.52      0.51      0.41      1594\n",
            "weighted avg       0.52      0.54      0.43      1594\n",
            "\n"
          ]
        }
      ]
    },
    {
      "cell_type": "markdown",
      "source": [
        "##SVM"
      ],
      "metadata": {
        "id": "wQ-rGPnCmgfv"
      }
    },
    {
      "cell_type": "code",
      "source": [
        "SVMModel = SVC(kernel='poly', probability=True)\n",
        "SVMModel.fit(x_train, y_train)"
      ],
      "metadata": {
        "colab": {
          "base_uri": "https://localhost:8080/",
          "height": 0
        },
        "id": "PHt4CVFVmiI9",
        "outputId": "b1cdccfa-efbd-43fd-8ba3-ea935410facc"
      },
      "execution_count": 66,
      "outputs": [
        {
          "output_type": "execute_result",
          "data": {
            "text/plain": [
              "SVC(kernel='poly', probability=True)"
            ],
            "text/html": [
              "<style>#sk-container-id-9 {color: black;background-color: white;}#sk-container-id-9 pre{padding: 0;}#sk-container-id-9 div.sk-toggleable {background-color: white;}#sk-container-id-9 label.sk-toggleable__label {cursor: pointer;display: block;width: 100%;margin-bottom: 0;padding: 0.3em;box-sizing: border-box;text-align: center;}#sk-container-id-9 label.sk-toggleable__label-arrow:before {content: \"▸\";float: left;margin-right: 0.25em;color: #696969;}#sk-container-id-9 label.sk-toggleable__label-arrow:hover:before {color: black;}#sk-container-id-9 div.sk-estimator:hover label.sk-toggleable__label-arrow:before {color: black;}#sk-container-id-9 div.sk-toggleable__content {max-height: 0;max-width: 0;overflow: hidden;text-align: left;background-color: #f0f8ff;}#sk-container-id-9 div.sk-toggleable__content pre {margin: 0.2em;color: black;border-radius: 0.25em;background-color: #f0f8ff;}#sk-container-id-9 input.sk-toggleable__control:checked~div.sk-toggleable__content {max-height: 200px;max-width: 100%;overflow: auto;}#sk-container-id-9 input.sk-toggleable__control:checked~label.sk-toggleable__label-arrow:before {content: \"▾\";}#sk-container-id-9 div.sk-estimator input.sk-toggleable__control:checked~label.sk-toggleable__label {background-color: #d4ebff;}#sk-container-id-9 div.sk-label input.sk-toggleable__control:checked~label.sk-toggleable__label {background-color: #d4ebff;}#sk-container-id-9 input.sk-hidden--visually {border: 0;clip: rect(1px 1px 1px 1px);clip: rect(1px, 1px, 1px, 1px);height: 1px;margin: -1px;overflow: hidden;padding: 0;position: absolute;width: 1px;}#sk-container-id-9 div.sk-estimator {font-family: monospace;background-color: #f0f8ff;border: 1px dotted black;border-radius: 0.25em;box-sizing: border-box;margin-bottom: 0.5em;}#sk-container-id-9 div.sk-estimator:hover {background-color: #d4ebff;}#sk-container-id-9 div.sk-parallel-item::after {content: \"\";width: 100%;border-bottom: 1px solid gray;flex-grow: 1;}#sk-container-id-9 div.sk-label:hover label.sk-toggleable__label {background-color: #d4ebff;}#sk-container-id-9 div.sk-serial::before {content: \"\";position: absolute;border-left: 1px solid gray;box-sizing: border-box;top: 0;bottom: 0;left: 50%;z-index: 0;}#sk-container-id-9 div.sk-serial {display: flex;flex-direction: column;align-items: center;background-color: white;padding-right: 0.2em;padding-left: 0.2em;position: relative;}#sk-container-id-9 div.sk-item {position: relative;z-index: 1;}#sk-container-id-9 div.sk-parallel {display: flex;align-items: stretch;justify-content: center;background-color: white;position: relative;}#sk-container-id-9 div.sk-item::before, #sk-container-id-9 div.sk-parallel-item::before {content: \"\";position: absolute;border-left: 1px solid gray;box-sizing: border-box;top: 0;bottom: 0;left: 50%;z-index: -1;}#sk-container-id-9 div.sk-parallel-item {display: flex;flex-direction: column;z-index: 1;position: relative;background-color: white;}#sk-container-id-9 div.sk-parallel-item:first-child::after {align-self: flex-end;width: 50%;}#sk-container-id-9 div.sk-parallel-item:last-child::after {align-self: flex-start;width: 50%;}#sk-container-id-9 div.sk-parallel-item:only-child::after {width: 0;}#sk-container-id-9 div.sk-dashed-wrapped {border: 1px dashed gray;margin: 0 0.4em 0.5em 0.4em;box-sizing: border-box;padding-bottom: 0.4em;background-color: white;}#sk-container-id-9 div.sk-label label {font-family: monospace;font-weight: bold;display: inline-block;line-height: 1.2em;}#sk-container-id-9 div.sk-label-container {text-align: center;}#sk-container-id-9 div.sk-container {/* jupyter's `normalize.less` sets `[hidden] { display: none; }` but bootstrap.min.css set `[hidden] { display: none !important; }` so we also need the `!important` here to be able to override the default hidden behavior on the sphinx rendered scikit-learn.org. See: https://github.com/scikit-learn/scikit-learn/issues/21755 */display: inline-block !important;position: relative;}#sk-container-id-9 div.sk-text-repr-fallback {display: none;}</style><div id=\"sk-container-id-9\" class=\"sk-top-container\"><div class=\"sk-text-repr-fallback\"><pre>SVC(kernel=&#x27;poly&#x27;, probability=True)</pre><b>In a Jupyter environment, please rerun this cell to show the HTML representation or trust the notebook. <br />On GitHub, the HTML representation is unable to render, please try loading this page with nbviewer.org.</b></div><div class=\"sk-container\" hidden><div class=\"sk-item\"><div class=\"sk-estimator sk-toggleable\"><input class=\"sk-toggleable__control sk-hidden--visually\" id=\"sk-estimator-id-9\" type=\"checkbox\" checked><label for=\"sk-estimator-id-9\" class=\"sk-toggleable__label sk-toggleable__label-arrow\">SVC</label><div class=\"sk-toggleable__content\"><pre>SVC(kernel=&#x27;poly&#x27;, probability=True)</pre></div></div></div></div></div>"
            ]
          },
          "metadata": {},
          "execution_count": 66
        }
      ]
    },
    {
      "cell_type": "code",
      "source": [
        "yval_predict = cross_val_predict(estimator = SVMModel, X = x_train, y = y_train, cv = 10)"
      ],
      "metadata": {
        "id": "P1pNNFLxmoW-"
      },
      "execution_count": 67,
      "outputs": []
    },
    {
      "cell_type": "code",
      "source": [
        "print(classification_report(y_train, yval_predict))"
      ],
      "metadata": {
        "id": "iZeDWbYdmrjF",
        "colab": {
          "base_uri": "https://localhost:8080/"
        },
        "outputId": "d7381a79-1e2b-4be5-a953-8a9f231c2cd0"
      },
      "execution_count": 68,
      "outputs": [
        {
          "output_type": "stream",
          "name": "stdout",
          "text": [
            "              precision    recall  f1-score   support\n",
            "\n",
            "           0       0.40      0.04      0.07      1753\n",
            "           1       0.53      0.95      0.68      1964\n",
            "\n",
            "    accuracy                           0.52      3717\n",
            "   macro avg       0.46      0.49      0.37      3717\n",
            "weighted avg       0.47      0.52      0.39      3717\n",
            "\n"
          ]
        }
      ]
    },
    {
      "cell_type": "code",
      "source": [
        "ytest_predict = SVMModel.predict(x_test)\n",
        "print(\"Classification Report: \\n\",classification_report(y_test, ytest_predict))"
      ],
      "metadata": {
        "id": "3Log9OZ0msoE",
        "colab": {
          "base_uri": "https://localhost:8080/"
        },
        "outputId": "354a51ac-d171-4a77-c626-e4a53ea4a32f"
      },
      "execution_count": 69,
      "outputs": [
        {
          "output_type": "stream",
          "name": "stdout",
          "text": [
            "Classification Report: \n",
            "               precision    recall  f1-score   support\n",
            "\n",
            "           0       0.45      0.03      0.06       732\n",
            "           1       0.54      0.97      0.69       862\n",
            "\n",
            "    accuracy                           0.54      1594\n",
            "   macro avg       0.50      0.50      0.38      1594\n",
            "weighted avg       0.50      0.54      0.40      1594\n",
            "\n"
          ]
        }
      ]
    },
    {
      "cell_type": "markdown",
      "source": [
        "##Random Forest"
      ],
      "metadata": {
        "id": "-mVqrdoITRSs"
      }
    },
    {
      "cell_type": "code",
      "source": [
        "RFModel = RandomForestClassifier()\n",
        "RFModel.fit(x_train, y_train)"
      ],
      "metadata": {
        "id": "1rxKSj9HTK32",
        "colab": {
          "base_uri": "https://localhost:8080/",
          "height": 0
        },
        "outputId": "53332dba-23d8-4e8f-e5e5-34a5dcbbd877"
      },
      "execution_count": 70,
      "outputs": [
        {
          "output_type": "execute_result",
          "data": {
            "text/plain": [
              "RandomForestClassifier()"
            ],
            "text/html": [
              "<style>#sk-container-id-10 {color: black;background-color: white;}#sk-container-id-10 pre{padding: 0;}#sk-container-id-10 div.sk-toggleable {background-color: white;}#sk-container-id-10 label.sk-toggleable__label {cursor: pointer;display: block;width: 100%;margin-bottom: 0;padding: 0.3em;box-sizing: border-box;text-align: center;}#sk-container-id-10 label.sk-toggleable__label-arrow:before {content: \"▸\";float: left;margin-right: 0.25em;color: #696969;}#sk-container-id-10 label.sk-toggleable__label-arrow:hover:before {color: black;}#sk-container-id-10 div.sk-estimator:hover label.sk-toggleable__label-arrow:before {color: black;}#sk-container-id-10 div.sk-toggleable__content {max-height: 0;max-width: 0;overflow: hidden;text-align: left;background-color: #f0f8ff;}#sk-container-id-10 div.sk-toggleable__content pre {margin: 0.2em;color: black;border-radius: 0.25em;background-color: #f0f8ff;}#sk-container-id-10 input.sk-toggleable__control:checked~div.sk-toggleable__content {max-height: 200px;max-width: 100%;overflow: auto;}#sk-container-id-10 input.sk-toggleable__control:checked~label.sk-toggleable__label-arrow:before {content: \"▾\";}#sk-container-id-10 div.sk-estimator input.sk-toggleable__control:checked~label.sk-toggleable__label {background-color: #d4ebff;}#sk-container-id-10 div.sk-label input.sk-toggleable__control:checked~label.sk-toggleable__label {background-color: #d4ebff;}#sk-container-id-10 input.sk-hidden--visually {border: 0;clip: rect(1px 1px 1px 1px);clip: rect(1px, 1px, 1px, 1px);height: 1px;margin: -1px;overflow: hidden;padding: 0;position: absolute;width: 1px;}#sk-container-id-10 div.sk-estimator {font-family: monospace;background-color: #f0f8ff;border: 1px dotted black;border-radius: 0.25em;box-sizing: border-box;margin-bottom: 0.5em;}#sk-container-id-10 div.sk-estimator:hover {background-color: #d4ebff;}#sk-container-id-10 div.sk-parallel-item::after {content: \"\";width: 100%;border-bottom: 1px solid gray;flex-grow: 1;}#sk-container-id-10 div.sk-label:hover label.sk-toggleable__label {background-color: #d4ebff;}#sk-container-id-10 div.sk-serial::before {content: \"\";position: absolute;border-left: 1px solid gray;box-sizing: border-box;top: 0;bottom: 0;left: 50%;z-index: 0;}#sk-container-id-10 div.sk-serial {display: flex;flex-direction: column;align-items: center;background-color: white;padding-right: 0.2em;padding-left: 0.2em;position: relative;}#sk-container-id-10 div.sk-item {position: relative;z-index: 1;}#sk-container-id-10 div.sk-parallel {display: flex;align-items: stretch;justify-content: center;background-color: white;position: relative;}#sk-container-id-10 div.sk-item::before, #sk-container-id-10 div.sk-parallel-item::before {content: \"\";position: absolute;border-left: 1px solid gray;box-sizing: border-box;top: 0;bottom: 0;left: 50%;z-index: -1;}#sk-container-id-10 div.sk-parallel-item {display: flex;flex-direction: column;z-index: 1;position: relative;background-color: white;}#sk-container-id-10 div.sk-parallel-item:first-child::after {align-self: flex-end;width: 50%;}#sk-container-id-10 div.sk-parallel-item:last-child::after {align-self: flex-start;width: 50%;}#sk-container-id-10 div.sk-parallel-item:only-child::after {width: 0;}#sk-container-id-10 div.sk-dashed-wrapped {border: 1px dashed gray;margin: 0 0.4em 0.5em 0.4em;box-sizing: border-box;padding-bottom: 0.4em;background-color: white;}#sk-container-id-10 div.sk-label label {font-family: monospace;font-weight: bold;display: inline-block;line-height: 1.2em;}#sk-container-id-10 div.sk-label-container {text-align: center;}#sk-container-id-10 div.sk-container {/* jupyter's `normalize.less` sets `[hidden] { display: none; }` but bootstrap.min.css set `[hidden] { display: none !important; }` so we also need the `!important` here to be able to override the default hidden behavior on the sphinx rendered scikit-learn.org. See: https://github.com/scikit-learn/scikit-learn/issues/21755 */display: inline-block !important;position: relative;}#sk-container-id-10 div.sk-text-repr-fallback {display: none;}</style><div id=\"sk-container-id-10\" class=\"sk-top-container\"><div class=\"sk-text-repr-fallback\"><pre>RandomForestClassifier()</pre><b>In a Jupyter environment, please rerun this cell to show the HTML representation or trust the notebook. <br />On GitHub, the HTML representation is unable to render, please try loading this page with nbviewer.org.</b></div><div class=\"sk-container\" hidden><div class=\"sk-item\"><div class=\"sk-estimator sk-toggleable\"><input class=\"sk-toggleable__control sk-hidden--visually\" id=\"sk-estimator-id-10\" type=\"checkbox\" checked><label for=\"sk-estimator-id-10\" class=\"sk-toggleable__label sk-toggleable__label-arrow\">RandomForestClassifier</label><div class=\"sk-toggleable__content\"><pre>RandomForestClassifier()</pre></div></div></div></div></div>"
            ]
          },
          "metadata": {},
          "execution_count": 70
        }
      ]
    },
    {
      "cell_type": "code",
      "source": [
        "yval_predict = cross_val_predict(estimator = RFModel, X = x_train, y = y_train, cv = 10)"
      ],
      "metadata": {
        "id": "J70vafUETY7r"
      },
      "execution_count": 71,
      "outputs": []
    },
    {
      "cell_type": "code",
      "source": [
        "print(classification_report(y_train, yval_predict))"
      ],
      "metadata": {
        "id": "Aiuq6iW1TbkF",
        "colab": {
          "base_uri": "https://localhost:8080/"
        },
        "outputId": "7f64a578-3728-4200-be3f-11895f62a881"
      },
      "execution_count": 72,
      "outputs": [
        {
          "output_type": "stream",
          "name": "stdout",
          "text": [
            "              precision    recall  f1-score   support\n",
            "\n",
            "           0       0.47      0.47      0.47      1753\n",
            "           1       0.53      0.53      0.53      1964\n",
            "\n",
            "    accuracy                           0.50      3717\n",
            "   macro avg       0.50      0.50      0.50      3717\n",
            "weighted avg       0.50      0.50      0.50      3717\n",
            "\n"
          ]
        }
      ]
    },
    {
      "cell_type": "code",
      "source": [
        "ytest_predict = RFModel.predict(x_test)\n",
        "print(\"Classification Report: \\n\",classification_report(y_test, ytest_predict))"
      ],
      "metadata": {
        "id": "vHHF0x1tTdC8",
        "colab": {
          "base_uri": "https://localhost:8080/"
        },
        "outputId": "1a612c94-129d-433c-81a4-e805cc3842b4"
      },
      "execution_count": 73,
      "outputs": [
        {
          "output_type": "stream",
          "name": "stdout",
          "text": [
            "Classification Report: \n",
            "               precision    recall  f1-score   support\n",
            "\n",
            "           0       0.43      0.43      0.43       732\n",
            "           1       0.52      0.52      0.52       862\n",
            "\n",
            "    accuracy                           0.48      1594\n",
            "   macro avg       0.47      0.47      0.47      1594\n",
            "weighted avg       0.48      0.48      0.48      1594\n",
            "\n"
          ]
        }
      ]
    },
    {
      "cell_type": "markdown",
      "source": [
        "#Save Model"
      ],
      "metadata": {
        "id": "7JmDnck_x4Wf"
      }
    },
    {
      "cell_type": "code",
      "source": [
        "import pickle\n",
        "\n",
        "filename = 'stockTechPredictModel.pkl'\n",
        "\n",
        "with open(filename, 'wb') as file:\n",
        "    pickle.dump(RFModel, file)\n",
        "    file.close()"
      ],
      "metadata": {
        "id": "yncKS9oLx6Bu"
      },
      "execution_count": 74,
      "outputs": []
    }
  ]
}